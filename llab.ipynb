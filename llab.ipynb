{
 "cells": [
  {
   "cell_type": "code",
   "execution_count": 1,
   "id": "246dd457",
   "metadata": {},
   "outputs": [
    {
     "ename": "FileNotFoundError",
     "evalue": "[Errno 2] No such file or directory: 'fold2'",
     "output_type": "error",
     "traceback": [
      "\u001b[1;31m---------------------------------------------------------------------------\u001b[0m",
      "\u001b[1;31mFileNotFoundError\u001b[0m                         Traceback (most recent call last)",
      "File \u001b[1;32mC:\\ProgramData\\anaconda3\\Lib\\shutil.py:825\u001b[0m, in \u001b[0;36mmove\u001b[1;34m(src, dst, copy_function)\u001b[0m\n\u001b[0;32m    824\u001b[0m \u001b[38;5;28;01mtry\u001b[39;00m:\n\u001b[1;32m--> 825\u001b[0m     os\u001b[38;5;241m.\u001b[39mrename(src, real_dst)\n\u001b[0;32m    826\u001b[0m \u001b[38;5;28;01mexcept\u001b[39;00m \u001b[38;5;167;01mOSError\u001b[39;00m:\n",
      "\u001b[1;31mFileNotFoundError\u001b[0m: [WinError 2] Не удается найти указанный файл: 'fold2' -> 'fold22'",
      "\nDuring handling of the above exception, another exception occurred:\n",
      "\u001b[1;31mFileNotFoundError\u001b[0m                         Traceback (most recent call last)",
      "Cell \u001b[1;32mIn[1], line 44\u001b[0m\n\u001b[0;32m     42\u001b[0m create_folder(\u001b[38;5;124m'\u001b[39m\u001b[38;5;124mfold1\u001b[39m\u001b[38;5;124m'\u001b[39m)\n\u001b[0;32m     43\u001b[0m \u001b[38;5;66;03m#delete_folder('fold1')\u001b[39;00m\n\u001b[1;32m---> 44\u001b[0m move_folder(\u001b[38;5;124m'\u001b[39m\u001b[38;5;124mfold2\u001b[39m\u001b[38;5;124m'\u001b[39m, \u001b[38;5;124m'\u001b[39m\u001b[38;5;124mfold22\u001b[39m\u001b[38;5;124m'\u001b[39m)\n\u001b[0;32m     45\u001b[0m copy_folder(\u001b[38;5;124m'\u001b[39m\u001b[38;5;124mfold3\u001b[39m\u001b[38;5;124m'\u001b[39m, \u001b[38;5;124m'\u001b[39m\u001b[38;5;124mfolder33\u001b[39m\u001b[38;5;124m'\u001b[39m)\n\u001b[0;32m     46\u001b[0m \u001b[38;5;66;03m#initialize_git_repository('f')\u001b[39;00m\n\u001b[0;32m     47\u001b[0m \u001b[38;5;66;03m#commit_changes('f', 'Initial commit')\u001b[39;00m\n\u001b[0;32m     48\u001b[0m \u001b[38;5;66;03m#push_to_remote('f')\u001b[39;00m\n",
      "Cell \u001b[1;32mIn[1], line 26\u001b[0m, in \u001b[0;36mmove_folder\u001b[1;34m(source_path, destination_path)\u001b[0m\n\u001b[0;32m     25\u001b[0m \u001b[38;5;28;01mdef\u001b[39;00m \u001b[38;5;21mmove_folder\u001b[39m(source_path, destination_path):\n\u001b[1;32m---> 26\u001b[0m     shutil\u001b[38;5;241m.\u001b[39mmove(source_path, destination_path)\n",
      "File \u001b[1;32mC:\\ProgramData\\anaconda3\\Lib\\shutil.py:845\u001b[0m, in \u001b[0;36mmove\u001b[1;34m(src, dst, copy_function)\u001b[0m\n\u001b[0;32m    843\u001b[0m         rmtree(src)\n\u001b[0;32m    844\u001b[0m     \u001b[38;5;28;01melse\u001b[39;00m:\n\u001b[1;32m--> 845\u001b[0m         copy_function(src, real_dst)\n\u001b[0;32m    846\u001b[0m         os\u001b[38;5;241m.\u001b[39munlink(src)\n\u001b[0;32m    847\u001b[0m \u001b[38;5;28;01mreturn\u001b[39;00m real_dst\n",
      "File \u001b[1;32mC:\\ProgramData\\anaconda3\\Lib\\shutil.py:436\u001b[0m, in \u001b[0;36mcopy2\u001b[1;34m(src, dst, follow_symlinks)\u001b[0m\n\u001b[0;32m    434\u001b[0m \u001b[38;5;28;01mif\u001b[39;00m os\u001b[38;5;241m.\u001b[39mpath\u001b[38;5;241m.\u001b[39misdir(dst):\n\u001b[0;32m    435\u001b[0m     dst \u001b[38;5;241m=\u001b[39m os\u001b[38;5;241m.\u001b[39mpath\u001b[38;5;241m.\u001b[39mjoin(dst, os\u001b[38;5;241m.\u001b[39mpath\u001b[38;5;241m.\u001b[39mbasename(src))\n\u001b[1;32m--> 436\u001b[0m copyfile(src, dst, follow_symlinks\u001b[38;5;241m=\u001b[39mfollow_symlinks)\n\u001b[0;32m    437\u001b[0m copystat(src, dst, follow_symlinks\u001b[38;5;241m=\u001b[39mfollow_symlinks)\n\u001b[0;32m    438\u001b[0m \u001b[38;5;28;01mreturn\u001b[39;00m dst\n",
      "File \u001b[1;32mC:\\ProgramData\\anaconda3\\Lib\\shutil.py:256\u001b[0m, in \u001b[0;36mcopyfile\u001b[1;34m(src, dst, follow_symlinks)\u001b[0m\n\u001b[0;32m    254\u001b[0m     os\u001b[38;5;241m.\u001b[39msymlink(os\u001b[38;5;241m.\u001b[39mreadlink(src), dst)\n\u001b[0;32m    255\u001b[0m \u001b[38;5;28;01melse\u001b[39;00m:\n\u001b[1;32m--> 256\u001b[0m     \u001b[38;5;28;01mwith\u001b[39;00m \u001b[38;5;28mopen\u001b[39m(src, \u001b[38;5;124m'\u001b[39m\u001b[38;5;124mrb\u001b[39m\u001b[38;5;124m'\u001b[39m) \u001b[38;5;28;01mas\u001b[39;00m fsrc:\n\u001b[0;32m    257\u001b[0m         \u001b[38;5;28;01mtry\u001b[39;00m:\n\u001b[0;32m    258\u001b[0m             \u001b[38;5;28;01mwith\u001b[39;00m \u001b[38;5;28mopen\u001b[39m(dst, \u001b[38;5;124m'\u001b[39m\u001b[38;5;124mwb\u001b[39m\u001b[38;5;124m'\u001b[39m) \u001b[38;5;28;01mas\u001b[39;00m fdst:\n\u001b[0;32m    259\u001b[0m                 \u001b[38;5;66;03m# macOS\u001b[39;00m\n",
      "\u001b[1;31mFileNotFoundError\u001b[0m: [Errno 2] No such file or directory: 'fold2'"
     ]
    }
   ],
   "source": [
    "import subprocess\n",
    "import os\n",
    "import shutil\n",
    "import git\n",
    "\n",
    "def create_file(file_path):\n",
    "    with open(file_path, 'w') as file:\n",
    "        pass\n",
    "\n",
    "def delete_file(file_path):\n",
    "    os.remove(file_path)\n",
    "\n",
    "def move_file(source_path, destination_path):\n",
    "    shutil.move(source_path, destination_path)\n",
    "\n",
    "def copy_file(source_path, destination_path):\n",
    "    shutil.copy2(source_path, destination_path)\n",
    "\n",
    "def create_folder(folder_path):\n",
    "    os.mkdir(folder_path)\n",
    "\n",
    "def delete_folder(folder_path):\n",
    "    shutil.rmtree(folder_path)\n",
    "\n",
    "def move_folder(source_path, destination_path):\n",
    "    shutil.move(source_path, destination_path)\n",
    "\n",
    "def copy_folder(source_path, destination_path):\n",
    "    shutil.copytree(source_path, destination_path)\n",
    "    \n",
    "def upload_to_git(repository_url):\n",
    "    subprocess.run(['git', 'init'])\n",
    "    subprocess.run(['git', 'add', '.'])\n",
    "    subprocess.run(['git', 'commit', '-m', 'Initial commit'])\n",
    "    subprocess.run(['git', 'remote', 'add', 'origin', repository_url])\n",
    "    subprocess.run(['git', 'push', '-u', 'origin', 'master'])\n",
    "\n",
    "create_file('num1.txt')\n",
    "#delete_file('num1.txt')\n",
    "move_file('num2.txt', 'num22.txt')\n",
    "copy_file('num3.txt', 'num33.txt')\n",
    "create_folder('fold1')\n",
    "#delete_folder('fold1')\n",
    "move_folder('fold2', 'fold22')\n",
    "copy_folder('fold3', 'folder33')\n",
    "#initialize_git_repository('f')\n",
    "#commit_changes('f', 'Initial commit')\n",
    "#push_to_remote('f')\n",
    "upload_to_github('https://github.com/filippovann/fil.git')              \n"
   ]
  },
  {
   "cell_type": "code",
   "execution_count": null,
   "id": "2eeb170e",
   "metadata": {},
   "outputs": [],
   "source": []
  }
 ],
 "metadata": {
  "kernelspec": {
   "display_name": "Python 3 (ipykernel)",
   "language": "python",
   "name": "python3"
  },
  "language_info": {
   "codemirror_mode": {
    "name": "ipython",
    "version": 3
   },
   "file_extension": ".py",
   "mimetype": "text/x-python",
   "name": "python",
   "nbconvert_exporter": "python",
   "pygments_lexer": "ipython3",
   "version": "3.11.5"
  }
 },
 "nbformat": 4,
 "nbformat_minor": 5
}
