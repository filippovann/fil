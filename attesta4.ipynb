{
 "cells": [
  {
   "cell_type": "code",
   "execution_count": null,
   "id": "92639c4e",
   "metadata": {},
   "outputs": [],
   "source": [
    "import tkinter as tk\n",
    "import sqlite3\n",
    "\n",
    "# Создание базы данных и таблицы\n",
    "conn = sqlite3.connect('people.db')\n",
    "cursor = conn.cursor()\n",
    "cursor.execute('''CREATE TABLE IF NOT EXISTS people\n",
    "                 (id INTEGER PRIMARY KEY AUTOINCREMENT,\n",
    "                 first_name TEXT,\n",
    "                 last_name TEXT,\n",
    "                 age INTEGER)''')\n",
    "\n",
    "# Заполнение БД\n",
    "people_data = [{'first_name': 'Иван', 'last_name': 'Иванов', 'age': 40},{'first_name': 'Петр', 'last_name': 'Петров', 'age': 30},{'first_name': 'Сеня', 'last_name': 'Сидоров', 'age': 20}]\n",
    "\n",
    "for person in people_data:\n",
    "    cursor.execute('''INSERT INTO people (first_name, last_name, age)\n",
    "    \n",
    "                   VALUES (?, ?, ?)''',\n",
    "                   (person['first_name'], person['last_name'], person['age']))\n",
    "conn.commit()\n",
    "\n",
    "# Создание графического интерфейса\n",
    "window = tk.Tk()\n",
    "\n",
    "window.title('Список ФИО и возраст')\n",
    "\n",
    "# Получение данных из базы данных\n",
    "cursor.execute('SELECT * FROM people')\n",
    "people_list = cursor.fetchall()\n",
    "\n",
    "# Отображение списка людей\n",
    "for person in people_list:\n",
    "    label = tk.Label(window, text=f'{person[1]} {person[2]}, {person[3]} лет')\n",
    "    label.pack()\n",
    "    \n",
    "    \n",
    "# Закрытие соединения с БД\n",
    "conn.close()\n",
    "\n",
    "# Запуск программы\n",
    "window.mainloop()"
   ]
  },
  {
   "cell_type": "code",
   "execution_count": null,
   "id": "f775d8fa",
   "metadata": {},
   "outputs": [],
   "source": []
  },
  {
   "cell_type": "code",
   "execution_count": null,
   "id": "be7f305f",
   "metadata": {},
   "outputs": [],
   "source": []
  }
 ],
 "metadata": {
  "kernelspec": {
   "display_name": "Python 3 (ipykernel)",
   "language": "python",
   "name": "python3"
  },
  "language_info": {
   "codemirror_mode": {
    "name": "ipython",
    "version": 3
   },
   "file_extension": ".py",
   "mimetype": "text/x-python",
   "name": "python",
   "nbconvert_exporter": "python",
   "pygments_lexer": "ipython3",
   "version": "3.11.5"
  }
 },
 "nbformat": 4,
 "nbformat_minor": 5
}
