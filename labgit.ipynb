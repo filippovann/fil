{
 "cells": [
  {
   "cell_type": "code",
   "execution_count": null,
   "id": "1830a4a4",
   "metadata": {},
   "outputs": [],
   "source": [
    "import subprocess\n",
    "import os\n",
    "import shutil\n",
    "import git\n",
    "\n",
    "def create_file(file_path):\n",
    "    with open(file_path, 'w') as file:\n",
    "        pass\n",
    "\n",
    "def delete_file(file_path):\n",
    "    os.remove(file_path)\n",
    "\n",
    "def move_file(source_path, destination_path):\n",
    "    shutil.move(source_path, destination_path)\n",
    "\n",
    "def copy_file(source_path, destination_path):\n",
    "    shutil.copy2(source_path, destination_path)\n",
    "\n",
    "def create_folder(folder_path):\n",
    "    os.mkdir(folder_path)\n",
    "\n",
    "def delete_folder(folder_path):\n",
    "    shutil.rmtree(folder_path)\n",
    "\n",
    "def move_folder(source_path, destination_path):\n",
    "    shutil.move(source_path, destination_path)\n",
    "\n",
    "def copy_folder(source_path, destination_path):\n",
    "    shutil.copytree(source_path, destination_path)\n",
    "    \n",
    "def upload_to_git(repository_url):\n",
    "    subprocess.run(['git', 'init'])\n",
    "    subprocess.run(['git', 'add', '.'])\n",
    "    subprocess.run(['git', 'commit', '-m', 'Initial commit'])\n",
    "    subprocess.run(['git', 'remote', 'add', 'origin', repository_url])\n",
    "    subprocess.run(['git', 'push', '-u', 'origin', 'master'])\n",
    "\n",
    "create_file('num1.txt')\n",
    "#delete_file('num1.txt')\n",
    "move_file('num2.txt', 'num22.txt')\n",
    "copy_file('num3.txt', 'num33.txt')\n",
    "create_folder('fold1')\n",
    "#delete_folder('fold1')\n",
    "move_folder('fold2', 'fold22')\n",
    "copy_folder('fold3', 'folder33')\n",
    "#initialize_git_repository('f')\n",
    "#commit_changes('f', 'Initial commit')\n",
    "#push_to_remote('f')\n",
    "upload_to_github('https://github.com/filippovann/fil.git')              \n"
   ]
  },
  {
   "cell_type": "code",
   "execution_count": null,
   "id": "bf4fd2b0",
   "metadata": {},
   "outputs": [],
   "source": []
  }
 ],
 "metadata": {
  "kernelspec": {
   "display_name": "Python 3 (ipykernel)",
   "language": "python",
   "name": "python3"
  },
  "language_info": {
   "codemirror_mode": {
    "name": "ipython",
    "version": 3
   },
   "file_extension": ".py",
   "mimetype": "text/x-python",
   "name": "python",
   "nbconvert_exporter": "python",
   "pygments_lexer": "ipython3",
   "version": "3.11.5"
  }
 },
 "nbformat": 4,
 "nbformat_minor": 5
}
