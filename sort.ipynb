{
 "cells": [
  {
   "cell_type": "code",
   "execution_count": null,
   "id": "d9b838e3",
   "metadata": {},
   "outputs": [],
   "source": [
    "import tkinter as tk\n",
    "from tkinter import messagebox\n",
    "import time\n",
    "\n",
    "def sort_sequence():\n",
    "    try:\n",
    "        sequence = [int(num) for num in entry.get().split(\",\")]\n",
    "        sort_type = sort_var.get()\n",
    "        \n",
    "        if sort_type == \"По возрастанию\":\n",
    "            start_time = time.time()\n",
    "            sorted_sequence = sorted(sequence)\n",
    "            end_time = time.time()\n",
    "        elif sort_type == \"По убыванию\":\n",
    "            start_time = time.time()\n",
    "            sorted_sequence = sorted(sequence, reverse=True)\n",
    "            end_time = time.time()\n",
    "        else:\n",
    "            messagebox.showerror(\"Ошибка\", \"Выберите тип сортировки\")\n",
    "            return\n",
    "        \n",
    "        output.delete(\"1.0\", tk.END)\n",
    "        output.insert(tk.END, f\"Отсортированная последовательность: {sorted_sequence}\\n\")\n",
    "        output.insert(tk.END, f\"Время сортировки: {end_time - start_time} секунд\")\n",
    "        \n",
    "    except ValueError:\n",
    "        messagebox.showerror(\"Ошибка\", \"Введите последовательность чисел через запятую\")\n",
    "\n",
    "# Создание графического интерфейса\n",
    "window = tk.Tk()\n",
    "window.title(\"Сортировка последовательности чисел\")\n",
    "\n",
    "# Поле ввода текста\n",
    "entry = tk.Entry(window)\n",
    "entry.pack()\n",
    "\n",
    "# Создание раскрывающегося списка\n",
    "sort_var = tk.StringVar(window)\n",
    "sort_var.set(\"По возрастанию\")\n",
    "sort_menu = tk.OptionMenu(window, sort_var, \"По возрастанию\", \"По убыванию\")\n",
    "sort_menu.pack()\n",
    "\n",
    "# Поле вывода надписи\n",
    "output = tk.Text(window, height=10, width=40)\n",
    "output.pack()\n",
    "\n",
    "# Кнопка \"Start\"\n",
    "start_button = tk.Button(window, text=\"Start\", command=sort_sequence)\n",
    "start_button.pack()\n",
    "\n",
    "window.mainloop()\n"
   ]
  },
  {
   "cell_type": "code",
   "execution_count": null,
   "id": "86751fe0",
   "metadata": {},
   "outputs": [],
   "source": []
  },
  {
   "cell_type": "code",
   "execution_count": null,
   "id": "deeba94f",
   "metadata": {},
   "outputs": [],
   "source": []
  }
 ],
 "metadata": {
  "kernelspec": {
   "display_name": "Python 3 (ipykernel)",
   "language": "python",
   "name": "python3"
  },
  "language_info": {
   "codemirror_mode": {
    "name": "ipython",
    "version": 3
   },
   "file_extension": ".py",
   "mimetype": "text/x-python",
   "name": "python",
   "nbconvert_exporter": "python",
   "pygments_lexer": "ipython3",
   "version": "3.11.5"
  }
 },
 "nbformat": 4,
 "nbformat_minor": 5
}
